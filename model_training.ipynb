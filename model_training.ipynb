{
 "cells": [
  {
   "cell_type": "markdown",
   "metadata": {},
   "source": [
    "## Outline"
   ]
  },
  {
   "cell_type": "markdown",
   "metadata": {},
   "source": [
    "* Importing the required libraries;\n",
    "* Proceseed data loading and preparation;\n",
    "* Model definition, training;\n",
    "* Evaluation."
   ]
  },
  {
   "cell_type": "markdown",
   "metadata": {},
   "source": [
    "----------"
   ]
  },
  {
   "cell_type": "markdown",
   "metadata": {},
   "source": [
    "### Importing the required libraries."
   ]
  },
  {
   "cell_type": "markdown",
   "metadata": {},
   "source": [
    "We'll try to solve this problem using a neural network constructed using PyTorch `nn.Module` class. All the required tools will be imported."
   ]
  },
  {
   "cell_type": "code",
   "execution_count": 1,
   "metadata": {},
   "outputs": [],
   "source": [
    "import pandas as pd\n",
    "import torch\n",
    "import torch.nn as nn\n",
    "import torch.optim as optim\n",
    "from torch.utils.data import DataLoader, TensorDataset\n",
    "from sklearn.model_selection import train_test_split"
   ]
  },
  {
   "cell_type": "markdown",
   "metadata": {},
   "source": [
    "Check cuda compatibility for gpu usage."
   ]
  },
  {
   "cell_type": "code",
   "execution_count": 2,
   "metadata": {},
   "outputs": [
    {
     "name": "stdout",
     "output_type": "stream",
     "text": [
      "Current device : cuda\n"
     ]
    }
   ],
   "source": [
    "device = torch.device(\"cuda\" if torch.cuda.is_available() else \"cpu\")\n",
    "print(f\"Current device : {device}\")"
   ]
  },
  {
   "cell_type": "markdown",
   "metadata": {},
   "source": [
    "-----"
   ]
  },
  {
   "cell_type": "markdown",
   "metadata": {},
   "source": [
    "### Loading processed data."
   ]
  },
  {
   "cell_type": "code",
   "execution_count": 3,
   "metadata": {},
   "outputs": [],
   "source": [
    "train_df = pd.read_csv(\"train_processed.csv\")\n",
    "test_df = pd.read_csv(\"test_processed.csv\")"
   ]
  },
  {
   "cell_type": "code",
   "execution_count": 4,
   "metadata": {},
   "outputs": [
    {
     "data": {
      "text/html": [
       "<div>\n",
       "<style scoped>\n",
       "    .dataframe tbody tr th:only-of-type {\n",
       "        vertical-align: middle;\n",
       "    }\n",
       "\n",
       "    .dataframe tbody tr th {\n",
       "        vertical-align: top;\n",
       "    }\n",
       "\n",
       "    .dataframe thead th {\n",
       "        text-align: right;\n",
       "    }\n",
       "</style>\n",
       "<table border=\"1\" class=\"dataframe\">\n",
       "  <thead>\n",
       "    <tr style=\"text-align: right;\">\n",
       "      <th></th>\n",
       "      <th>class</th>\n",
       "      <th>cap-diameter</th>\n",
       "      <th>cap-shape</th>\n",
       "      <th>cap-color</th>\n",
       "      <th>does-bruise-or-bleed</th>\n",
       "      <th>gill-color</th>\n",
       "      <th>stem-height</th>\n",
       "      <th>stem-width</th>\n",
       "      <th>stem-color</th>\n",
       "      <th>has-ring</th>\n",
       "      <th>ring-type</th>\n",
       "      <th>habitat</th>\n",
       "      <th>season</th>\n",
       "    </tr>\n",
       "  </thead>\n",
       "  <tbody>\n",
       "    <tr>\n",
       "      <th>0</th>\n",
       "      <td>1</td>\n",
       "      <td>0.800897</td>\n",
       "      <td>0.488037</td>\n",
       "      <td>0.460691</td>\n",
       "      <td>0.444231</td>\n",
       "      <td>0.571559</td>\n",
       "      <td>-0.680920</td>\n",
       "      <td>0.523308</td>\n",
       "      <td>0.582287</td>\n",
       "      <td>0.466735</td>\n",
       "      <td>0.460745</td>\n",
       "      <td>0.471157</td>\n",
       "      <td>0.428394</td>\n",
       "    </tr>\n",
       "    <tr>\n",
       "      <th>1</th>\n",
       "      <td>0</td>\n",
       "      <td>-0.227703</td>\n",
       "      <td>0.489837</td>\n",
       "      <td>0.282747</td>\n",
       "      <td>0.444231</td>\n",
       "      <td>0.285108</td>\n",
       "      <td>-0.577200</td>\n",
       "      <td>-0.577318</td>\n",
       "      <td>0.403348</td>\n",
       "      <td>0.408902</td>\n",
       "      <td>0.003842</td>\n",
       "      <td>0.471157</td>\n",
       "      <td>0.653996</td>\n",
       "    </tr>\n",
       "    <tr>\n",
       "      <th>2</th>\n",
       "      <td>1</td>\n",
       "      <td>0.424930</td>\n",
       "      <td>0.488037</td>\n",
       "      <td>0.873944</td>\n",
       "      <td>0.444231</td>\n",
       "      <td>0.571559</td>\n",
       "      <td>0.185883</td>\n",
       "      <td>-0.151150</td>\n",
       "      <td>0.389062</td>\n",
       "      <td>0.466735</td>\n",
       "      <td>0.460745</td>\n",
       "      <td>0.605072</td>\n",
       "      <td>0.653996</td>\n",
       "    </tr>\n",
       "    <tr>\n",
       "      <th>3</th>\n",
       "      <td>1</td>\n",
       "      <td>-0.444599</td>\n",
       "      <td>0.488037</td>\n",
       "      <td>0.588087</td>\n",
       "      <td>0.444231</td>\n",
       "      <td>0.518990</td>\n",
       "      <td>-0.810570</td>\n",
       "      <td>-0.571142</td>\n",
       "      <td>0.582287</td>\n",
       "      <td>0.466735</td>\n",
       "      <td>0.460745</td>\n",
       "      <td>0.471157</td>\n",
       "      <td>0.417541</td>\n",
       "    </tr>\n",
       "    <tr>\n",
       "      <th>4</th>\n",
       "      <td>1</td>\n",
       "      <td>0.161152</td>\n",
       "      <td>0.489837</td>\n",
       "      <td>0.502929</td>\n",
       "      <td>0.444231</td>\n",
       "      <td>0.571559</td>\n",
       "      <td>-1.103208</td>\n",
       "      <td>-0.345087</td>\n",
       "      <td>0.582287</td>\n",
       "      <td>0.466735</td>\n",
       "      <td>0.460745</td>\n",
       "      <td>0.325389</td>\n",
       "      <td>0.428394</td>\n",
       "    </tr>\n",
       "  </tbody>\n",
       "</table>\n",
       "</div>"
      ],
      "text/plain": [
       "   class  cap-diameter  cap-shape  cap-color  does-bruise-or-bleed  \\\n",
       "0      1      0.800897   0.488037   0.460691              0.444231   \n",
       "1      0     -0.227703   0.489837   0.282747              0.444231   \n",
       "2      1      0.424930   0.488037   0.873944              0.444231   \n",
       "3      1     -0.444599   0.488037   0.588087              0.444231   \n",
       "4      1      0.161152   0.489837   0.502929              0.444231   \n",
       "\n",
       "   gill-color  stem-height  stem-width  stem-color  has-ring  ring-type  \\\n",
       "0    0.571559    -0.680920    0.523308    0.582287  0.466735   0.460745   \n",
       "1    0.285108    -0.577200   -0.577318    0.403348  0.408902   0.003842   \n",
       "2    0.571559     0.185883   -0.151150    0.389062  0.466735   0.460745   \n",
       "3    0.518990    -0.810570   -0.571142    0.582287  0.466735   0.460745   \n",
       "4    0.571559    -1.103208   -0.345087    0.582287  0.466735   0.460745   \n",
       "\n",
       "    habitat    season  \n",
       "0  0.471157  0.428394  \n",
       "1  0.471157  0.653996  \n",
       "2  0.605072  0.653996  \n",
       "3  0.471157  0.417541  \n",
       "4  0.325389  0.428394  "
      ]
     },
     "execution_count": 4,
     "metadata": {},
     "output_type": "execute_result"
    }
   ],
   "source": [
    "train_df.head()"
   ]
  },
  {
   "cell_type": "markdown",
   "metadata": {},
   "source": [
    "Creating data arrays."
   ]
  },
  {
   "cell_type": "code",
   "execution_count": 5,
   "metadata": {},
   "outputs": [],
   "source": [
    "X_train = train_df.iloc[:, 1:].values\n",
    "y_train = train_df[\"class\"].values\n",
    "X_test = test_df.values"
   ]
  },
  {
   "cell_type": "markdown",
   "metadata": {},
   "source": [
    "This is a random state argument to reprodruce results."
   ]
  },
  {
   "cell_type": "code",
   "execution_count": 6,
   "metadata": {},
   "outputs": [],
   "source": [
    "rs = 117"
   ]
  },
  {
   "cell_type": "markdown",
   "metadata": {},
   "source": [
    "A validation dataset should be created for evaluation."
   ]
  },
  {
   "cell_type": "code",
   "execution_count": 7,
   "metadata": {},
   "outputs": [],
   "source": [
    "X_train, X_val, y_train, y_val = train_test_split(X_train, y_train, test_size = 0.30, \n",
    "                                                  random_state = rs, stratify = y_train)"
   ]
  },
  {
   "cell_type": "markdown",
   "metadata": {},
   "source": [
    "With data arrays being creatd, they should be converted to tensors for PyTorch usage. Then we create the tensor datasets and data loader that will be passed to the model."
   ]
  },
  {
   "cell_type": "code",
   "execution_count": 1,
   "metadata": {},
   "outputs": [
    {
     "ename": "NameError",
     "evalue": "name 'torch' is not defined",
     "output_type": "error",
     "traceback": [
      "\u001b[1;31m---------------------------------------------------------------------------\u001b[0m",
      "\u001b[1;31mNameError\u001b[0m                                 Traceback (most recent call last)",
      "Cell \u001b[1;32mIn[1], line 1\u001b[0m\n\u001b[1;32m----> 1\u001b[0m X_train_tensor \u001b[38;5;241m=\u001b[39m \u001b[43mtorch\u001b[49m\u001b[38;5;241m.\u001b[39mfrom_numpy(X_train)\n\u001b[0;32m      2\u001b[0m y_train_tensor \u001b[38;5;241m=\u001b[39m torch\u001b[38;5;241m.\u001b[39mfrom_numpy(y_train)\u001b[38;5;241m.\u001b[39munsqueeze(\u001b[38;5;241m1\u001b[39m)\u001b[38;5;241m.\u001b[39mdouble()\n\u001b[0;32m      4\u001b[0m X_val_tensor \u001b[38;5;241m=\u001b[39m torch\u001b[38;5;241m.\u001b[39mfrom_numpy(X_val)\n",
      "\u001b[1;31mNameError\u001b[0m: name 'torch' is not defined"
     ]
    }
   ],
   "source": [
    "X_train_tensor = torch.from_numpy(X_train)\n",
    "y_train_tensor = torch.from_numpy(y_train).unsqueeze(1).double()\n",
    "\n",
    "X_val_tensor = torch.from_numpy(X_val)\n",
    "y_val_tensor = torch.from_numpy(y_val).unsqueeze(1).double()\n",
    "\n",
    "X_test_tensor = torch.from_numpy(X_test)"
   ]
  },
  {
   "cell_type": "code",
   "execution_count": 9,
   "metadata": {},
   "outputs": [],
   "source": [
    "train_ds = TensorDataset(X_train_tensor, y_train_tensor)\n",
    "val_ds = TensorDataset(X_val_tensor, y_val_tensor)\n",
    "test_ds = TensorDataset(X_test_tensor)"
   ]
  },
  {
   "cell_type": "code",
   "execution_count": 10,
   "metadata": {},
   "outputs": [],
   "source": [
    "train_dl = DataLoader(train_ds, batch_size = 128, shuffle = True)\n",
    "val_dl = DataLoader(val_ds, batch_size = 128, shuffle = False)"
   ]
  },
  {
   "cell_type": "markdown",
   "metadata": {},
   "source": [
    "------------"
   ]
  },
  {
   "cell_type": "markdown",
   "metadata": {},
   "source": [
    "### Model definition and training"
   ]
  },
  {
   "cell_type": "markdown",
   "metadata": {},
   "source": [
    "We'll construct our model using the `nn.Module` class.\n",
    "The network architecture will be as follow:"
   ]
  },
  {
   "cell_type": "code",
   "execution_count": 11,
   "metadata": {},
   "outputs": [],
   "source": [
    "class Model(nn.Module):\n",
    "    def __init__(self, input_size, hidden_size1, hidden_size2, output_size):\n",
    "        super().__init__()\n",
    "        self.layer1 = nn.Linear(input_size, hidden_size1)\n",
    "        self.a1 = nn.ReLU()\n",
    "        self.layer2 = nn.Linear(hidden_size1, hidden_size2)\n",
    "        self.a2 = nn.ReLU()\n",
    "        self.layer3 = nn.Linear(hidden_size2, output_size)\n",
    "        self.a2 = nn.Sigmoid()\n",
    "\n",
    "    def forward(self, x):\n",
    "        x = self.a1(self.layer1(x))\n",
    "        x = self.a2(self.layer2(x))\n",
    "        x = self.a2(self.layer3(x))\n",
    "        return x"
   ]
  },
  {
   "cell_type": "code",
   "execution_count": 12,
   "metadata": {},
   "outputs": [],
   "source": [
    "input_dim = X_train_tensor.shape[1]\n",
    "output_dim = 1\n",
    "hidden_size1 = 12\n",
    "hidden_size2 = 12"
   ]
  },
  {
   "cell_type": "code",
   "execution_count": 13,
   "metadata": {},
   "outputs": [
    {
     "data": {
      "text/plain": [
       "Model(\n",
       "  (layer1): Linear(in_features=12, out_features=12, bias=True)\n",
       "  (a1): ReLU()\n",
       "  (layer2): Linear(in_features=12, out_features=12, bias=True)\n",
       "  (a2): Sigmoid()\n",
       "  (layer3): Linear(in_features=12, out_features=1, bias=True)\n",
       ")"
      ]
     },
     "execution_count": 13,
     "metadata": {},
     "output_type": "execute_result"
    }
   ],
   "source": [
    "model = Model(input_size = input_dim, output_size = output_dim,\n",
    "               hidden_size1 = hidden_size1, hidden_size2 = hidden_size2).double()\n",
    "model.to(device)"
   ]
  },
  {
   "cell_type": "markdown",
   "metadata": {},
   "source": [
    "These are the loss function to evaluate the model's performance and the optimizer to update the model's parameters."
   ]
  },
  {
   "cell_type": "code",
   "execution_count": 14,
   "metadata": {},
   "outputs": [],
   "source": [
    "criterion = nn.BCELoss()\n",
    "optimizer = optim.Adam(params = model.parameters(), lr = 0.001)"
   ]
  },
  {
   "cell_type": "markdown",
   "metadata": {},
   "source": [
    "This is the training loop used to train and evaluate the model at the same time.\n",
    "\n",
    "The training is done on 50 epochs, we use early stopping to keep track of the best models and avoid overfitting.\n",
    "\n",
    "The history of losses and accuracies is saved in a dictionary."
   ]
  },
  {
   "cell_type": "code",
   "execution_count": 15,
   "metadata": {},
   "outputs": [
    {
     "name": "stdout",
     "output_type": "stream",
     "text": [
      "Epoch 1 / 50, Train Loss:0.4860, Val Loss:0.4530\n",
      "\t\tTrain Acc:0.7768, Val Acc:0.7987\n",
      "\n",
      "Epoch 2 / 50, Train Loss:0.4239, Val Loss:0.3923\n",
      "\t\tTrain Acc:0.8113, Val Acc:0.8287\n",
      "\n",
      "Epoch 3 / 50, Train Loss:0.3729, Val Loss:0.3594\n",
      "\t\tTrain Acc:0.8377, Val Acc:0.8465\n",
      "\n",
      "Epoch 4 / 50, Train Loss:0.3456, Val Loss:0.3347\n",
      "\t\tTrain Acc:0.8525, Val Acc:0.8554\n",
      "\n",
      "Epoch 5 / 50, Train Loss:0.3219, Val Loss:0.3144\n",
      "\t\tTrain Acc:0.8651, Val Acc:0.8714\n",
      "\n",
      "Epoch 6 / 50, Train Loss:0.3079, Val Loss:0.3024\n",
      "\t\tTrain Acc:0.8739, Val Acc:0.8772\n",
      "\n",
      "Epoch 7 / 50, Train Loss:0.2984, Val Loss:0.2939\n",
      "\t\tTrain Acc:0.8794, Val Acc:0.8828\n",
      "\n",
      "Epoch 8 / 50, Train Loss:0.2910, Val Loss:0.2906\n",
      "\t\tTrain Acc:0.8836, Val Acc:0.8825\n",
      "\n",
      "Epoch 9 / 50, Train Loss:0.2848, Val Loss:0.2828\n",
      "\t\tTrain Acc:0.8869, Val Acc:0.8893\n",
      "\n",
      "Epoch 10 / 50, Train Loss:0.2793, Val Loss:0.2778\n",
      "\t\tTrain Acc:0.8894, Val Acc:0.8896\n",
      "\n",
      "Epoch 11 / 50, Train Loss:0.2746, Val Loss:0.2726\n",
      "\t\tTrain Acc:0.8915, Val Acc:0.8929\n",
      "\n",
      "Epoch 12 / 50, Train Loss:0.2706, Val Loss:0.2690\n",
      "\t\tTrain Acc:0.8933, Val Acc:0.8944\n",
      "\n",
      "Epoch 13 / 50, Train Loss:0.2675, Val Loss:0.2660\n",
      "\t\tTrain Acc:0.8949, Val Acc:0.8955\n",
      "\n",
      "Epoch 14 / 50, Train Loss:0.2642, Val Loss:0.2641\n",
      "\t\tTrain Acc:0.8968, Val Acc:0.8965\n",
      "\n",
      "Epoch 15 / 50, Train Loss:0.2605, Val Loss:0.2622\n",
      "\t\tTrain Acc:0.8987, Val Acc:0.8975\n",
      "\n",
      "Epoch 16 / 50, Train Loss:0.2555, Val Loss:0.2533\n",
      "\t\tTrain Acc:0.9015, Val Acc:0.9027\n",
      "\n",
      "Epoch 17 / 50, Train Loss:0.2516, Val Loss:0.2544\n",
      "\t\tTrain Acc:0.9034, Val Acc:0.9016\n",
      "\n",
      "Epoch 18 / 50, Train Loss:0.2482, Val Loss:0.2465\n",
      "\t\tTrain Acc:0.9051, Val Acc:0.9070\n",
      "\n",
      "Epoch 19 / 50, Train Loss:0.2454, Val Loss:0.2449\n",
      "\t\tTrain Acc:0.9066, Val Acc:0.9066\n",
      "\n",
      "Epoch 20 / 50, Train Loss:0.2424, Val Loss:0.2395\n",
      "\t\tTrain Acc:0.9082, Val Acc:0.9108\n",
      "\n",
      "Epoch 21 / 50, Train Loss:0.2392, Val Loss:0.2448\n",
      "\t\tTrain Acc:0.9101, Val Acc:0.9064\n",
      "\n",
      "Epoch 22 / 50, Train Loss:0.2357, Val Loss:0.2355\n",
      "\t\tTrain Acc:0.9120, Val Acc:0.9121\n",
      "\n",
      "Epoch 23 / 50, Train Loss:0.2325, Val Loss:0.2334\n",
      "\t\tTrain Acc:0.9135, Val Acc:0.9119\n",
      "\n",
      "Epoch 24 / 50, Train Loss:0.2299, Val Loss:0.2285\n",
      "\t\tTrain Acc:0.9149, Val Acc:0.9169\n",
      "\n",
      "Epoch 25 / 50, Train Loss:0.2275, Val Loss:0.2261\n",
      "\t\tTrain Acc:0.9159, Val Acc:0.9174\n",
      "\n",
      "Epoch 26 / 50, Train Loss:0.2255, Val Loss:0.2273\n",
      "\t\tTrain Acc:0.9170, Val Acc:0.9168\n",
      "\n",
      "Epoch 27 / 50, Train Loss:0.2234, Val Loss:0.2220\n",
      "\t\tTrain Acc:0.9181, Val Acc:0.9191\n",
      "\n",
      "Epoch 28 / 50, Train Loss:0.2219, Val Loss:0.2229\n",
      "\t\tTrain Acc:0.9189, Val Acc:0.9184\n",
      "\n",
      "Epoch 29 / 50, Train Loss:0.2202, Val Loss:0.2236\n",
      "\t\tTrain Acc:0.9197, Val Acc:0.9190\n",
      "\n",
      "Epoch 30 / 50, Train Loss:0.2189, Val Loss:0.2197\n",
      "\t\tTrain Acc:0.9204, Val Acc:0.9207\n",
      "\n",
      "Epoch 31 / 50, Train Loss:0.2177, Val Loss:0.2155\n",
      "\t\tTrain Acc:0.9210, Val Acc:0.9221\n",
      "\n",
      "Epoch 32 / 50, Train Loss:0.2164, Val Loss:0.2141\n",
      "\t\tTrain Acc:0.9217, Val Acc:0.9231\n",
      "\n",
      "Epoch 33 / 50, Train Loss:0.2151, Val Loss:0.2166\n",
      "\t\tTrain Acc:0.9223, Val Acc:0.9209\n",
      "\n",
      "Epoch 34 / 50, Train Loss:0.2140, Val Loss:0.2138\n",
      "\t\tTrain Acc:0.9229, Val Acc:0.9233\n",
      "\n",
      "Epoch 35 / 50, Train Loss:0.2128, Val Loss:0.2122\n",
      "\t\tTrain Acc:0.9233, Val Acc:0.9246\n",
      "\n",
      "Epoch 36 / 50, Train Loss:0.2118, Val Loss:0.2145\n",
      "\t\tTrain Acc:0.9240, Val Acc:0.9219\n",
      "\n",
      "Epoch 37 / 50, Train Loss:0.2107, Val Loss:0.2131\n",
      "\t\tTrain Acc:0.9245, Val Acc:0.9232\n",
      "\n",
      "Epoch 38 / 50, Train Loss:0.2097, Val Loss:0.2076\n",
      "\t\tTrain Acc:0.9248, Val Acc:0.9255\n",
      "\n",
      "Epoch 39 / 50, Train Loss:0.2089, Val Loss:0.2073\n",
      "\t\tTrain Acc:0.9253, Val Acc:0.9266\n",
      "\n",
      "Epoch 40 / 50, Train Loss:0.2082, Val Loss:0.2073\n",
      "\t\tTrain Acc:0.9256, Val Acc:0.9260\n",
      "\n",
      "Epoch 41 / 50, Train Loss:0.2075, Val Loss:0.2056\n",
      "\t\tTrain Acc:0.9260, Val Acc:0.9273\n",
      "\n",
      "Epoch 42 / 50, Train Loss:0.2067, Val Loss:0.2062\n",
      "\t\tTrain Acc:0.9265, Val Acc:0.9265\n",
      "\n",
      "Epoch 43 / 50, Train Loss:0.2060, Val Loss:0.2050\n",
      "\t\tTrain Acc:0.9269, Val Acc:0.9278\n",
      "\n",
      "Epoch 44 / 50, Train Loss:0.2053, Val Loss:0.2052\n",
      "\t\tTrain Acc:0.9271, Val Acc:0.9267\n",
      "\n",
      "Epoch 45 / 50, Train Loss:0.2044, Val Loss:0.2044\n",
      "\t\tTrain Acc:0.9278, Val Acc:0.9280\n",
      "\n",
      "Epoch 46 / 50, Train Loss:0.2036, Val Loss:0.2049\n",
      "\t\tTrain Acc:0.9281, Val Acc:0.9281\n",
      "\n",
      "Epoch 47 / 50, Train Loss:0.2027, Val Loss:0.2011\n",
      "\t\tTrain Acc:0.9286, Val Acc:0.9290\n",
      "\n",
      "Epoch 48 / 50, Train Loss:0.2018, Val Loss:0.2037\n",
      "\t\tTrain Acc:0.9290, Val Acc:0.9293\n",
      "\n",
      "Epoch 49 / 50, Train Loss:0.2009, Val Loss:0.2037\n",
      "\t\tTrain Acc:0.9295, Val Acc:0.9281\n",
      "\n",
      "Epoch 50 / 50, Train Loss:0.1999, Val Loss:0.1981\n",
      "\t\tTrain Acc:0.9300, Val Acc:0.9311\n",
      "\n"
     ]
    }
   ],
   "source": [
    "epochs = 50\n",
    "best_val_loss = float(\"inf\")\n",
    "counter = 0\n",
    "patience = 5\n",
    "history = {\"train_loss\": [], \"val_loss\": [], \"train_acc\": [], \"val_acc\": []}\n",
    "\n",
    "for epoch in range(epochs):\n",
    "    model.train()\n",
    "    train_loss = 0\n",
    "    correct_train = 0\n",
    "    total_train = 0\n",
    "    for inputs, targets in train_dl:\n",
    "        inputs, targets = inputs.to(device), targets.to(device)\n",
    "        outputs = model(inputs)\n",
    "        loss = criterion(outputs, targets)\n",
    "        loss.backward()\n",
    "        optimizer.step()\n",
    "        optimizer.zero_grad()\n",
    "        train_loss += loss.item()\n",
    "        predictions = (outputs > 0.5).double()\n",
    "        correct_train += (predictions == targets).sum().item()\n",
    "        total_train += targets.size(0)\n",
    "\n",
    "    avg_train_loss = train_loss / len(train_dl)\n",
    "    train_acc = correct_train / total_train\n",
    "    history[\"train_loss\"].append(avg_train_loss)\n",
    "    history[\"train_acc\"].append(train_acc)\n",
    "\n",
    "    model.eval()\n",
    "    val_loss = 0.0\n",
    "    correct_val = 0\n",
    "    total_val = 0\n",
    "    with torch.no_grad():\n",
    "        for inputs, targets in val_dl:\n",
    "            inputs, targets = inputs.to(device), targets.to(device)\n",
    "            outputs = model(inputs)\n",
    "            loss = criterion(outputs, targets)\n",
    "            val_loss += loss.item()\n",
    "            predictions = (outputs > 0.5).double()\n",
    "            correct_val += (predictions == targets).sum().item()\n",
    "            total_val += targets.size(0)\n",
    "\n",
    "    avg_val_loss = val_loss / len(val_dl)\n",
    "    val_acc = correct_val / total_val\n",
    "    history[\"val_loss\"].append(avg_val_loss)\n",
    "    history[\"val_acc\"].append(val_acc)\n",
    "    print(f\"Epoch {epoch+1} / {epochs}, Train Loss:{avg_train_loss:.4f}, Val Loss:{avg_val_loss:.4f}\\n\" \n",
    "                                        f\"\\t\\tTrain Acc:{train_acc:.4f}, Val Acc:{val_acc:.4f}\")\n",
    "    print()\n",
    "\n",
    "    if val_loss < best_val_loss:\n",
    "        best_val_loss = val_loss\n",
    "        torch.save(model, \"final_model01.pth\")\n",
    "        counter = 0\n",
    "    else:\n",
    "        counter += 1\n",
    "        if counter >= patience:\n",
    "            print(\"Early stopping triggered\")\n",
    "            break"
   ]
  },
  {
   "cell_type": "markdown",
   "metadata": {},
   "source": [
    "---------"
   ]
  },
  {
   "cell_type": "markdown",
   "metadata": {},
   "source": [
    "### Evaluation"
   ]
  },
  {
   "cell_type": "markdown",
   "metadata": {},
   "source": [
    "After the training is done, we'll evaluate the model's performance by plotting the accuracies and losses saved in the history."
   ]
  },
  {
   "cell_type": "code",
   "execution_count": 2,
   "metadata": {},
   "outputs": [],
   "source": [
    "history = torch.load(\"training_history.pth02\")"
   ]
  },
  {
   "cell_type": "code",
   "execution_count": 3,
   "metadata": {},
   "outputs": [],
   "source": [
    "import matplotlib.pyplot as plt"
   ]
  },
  {
   "cell_type": "code",
   "execution_count": 6,
   "metadata": {},
   "outputs": [],
   "source": [
    "epochs = 50"
   ]
  },
  {
   "cell_type": "markdown",
   "metadata": {},
   "source": [
    "- Loss"
   ]
  },
  {
   "cell_type": "code",
   "execution_count": 9,
   "metadata": {},
   "outputs": [
    {
     "data": {
      "image/png": "[encoded data removed]",
      "text/plain": [
       "<Figure size 640x480 with 1 Axes>"
      ]
     },
     "metadata": {},
     "output_type": "display_data"
    }
   ],
   "source": [
    "plt.plot(range(epochs), history[\"train_loss\"])\n",
    "plt.plot(range(epochs), history[\"val_loss\"])\n",
    "plt.legend([\"Training Loss\", \"Validation Loss\"])\n",
    "plt.xlabel(\"Number of epochs\")\n",
    "plt.ylabel(\"Loss\")\n",
    "plt.show()"
   ]
  },
  {
   "cell_type": "markdown",
   "metadata": {},
   "source": [
    "* Accuracy"
   ]
  },
  {
   "cell_type": "code",
   "execution_count": 10,
   "metadata": {},
   "outputs": [
    {
     "data": {
      "image/png": "[encoded data removed]",
      "text/plain": [
       "<Figure size 640x480 with 1 Axes>"
      ]
     },
     "metadata": {},
     "output_type": "display_data"
    }
   ],
   "source": [
    "plt.plot(range(epochs), history[\"train_acc\"])\n",
    "plt.plot(range(epochs), history[\"val_acc\"])\n",
    "plt.legend([\"Training Accuracy\", \"Validation Accuracy\"])\n",
    "plt.xlabel(\"Number of epochs\")\n",
    "plt.ylabel(\"Accuracy\")\n",
    "plt.show()"
   ]
  },
  {
   "cell_type": "markdown",
   "metadata": {},
   "source": [
    "----------"
   ]
  },
  {
   "cell_type": "markdown",
   "metadata": {},
   "source": [
    "### Make predictions on the test set"
   ]
  },
  {
   "cell_type": "code",
   "execution_count": null,
   "metadata": {},
   "outputs": [],
   "source": []
  }
 ],
 "metadata": {
  "kernelspec": {
   "display_name": "Python 3",
   "language": "python",
   "name": "python3"
  },
  "language_info": {
   "codemirror_mode": {
    "name": "ipython",
    "version": 3
   },
   "file_extension": ".py",
   "mimetype": "text/x-python",
   "name": "python",
   "nbconvert_exporter": "python",
   "pygments_lexer": "ipython3",
   "version": "3.11.5"
  }
 },
 "nbformat": 4,
 "nbformat_minor": 2
}
